{
 "cells": [
  {
   "cell_type": "code",
   "execution_count": null,
   "metadata": {},
   "outputs": [],
   "source": [
    "# In this kata you are required to, given a string, replace every letter with its position in the alphabet.\n",
    "# If anything in the text isn't a letter, ignore it and don't return it.\n",
    "\n",
    "# \"a\" = 1, \"b\" = 2, etc.\n",
    "\n",
    "# Example\n",
    "# alphabet_position(\"The sunset sets at twelve o' clock.\")\n",
    "# Should return \"20 8 5 19 21 14 19 5 20 19 5 20 19 1 20 20 23 5 12 22 5 15 3 12 15 3 11\" ( as a string )"
   ]
  },
  {
   "cell_type": "code",
   "execution_count": 1,
   "metadata": {},
   "outputs": [
    {
     "name": "stdout",
     "output_type": "stream",
     "text": [
      "65\n"
     ]
    },
    {
     "data": {
      "text/plain": [
       "'1 12 9 1 20 1 2 1 11'"
      ]
     },
     "execution_count": 1,
     "metadata": {},
     "output_type": "execute_result"
    }
   ],
   "source": [
    "a = {\"a\" : 1 , \"b\":2}\n",
    "\n",
    "print(ord(\"A\"))\n",
    "\n",
    "\n",
    "sentence = \"Ali ata bak\"\n",
    "\n",
    "def func(sentence) :\n",
    "  result = \"\"\n",
    "  for i in sentence :\n",
    "    if i.isalpha() :\n",
    "      result += str(ord(i.upper()) - 64 ) + \" \"\n",
    "  return result.strip()\n",
    "\n",
    "func(sentence)\n"
   ]
  }
 ],
 "metadata": {
  "interpreter": {
   "hash": "502f352580151e38c0585099878fead8169f67c557ff4d2e404d95e59d9c23bc"
  },
  "kernelspec": {
   "display_name": "Python 3.10.4 64-bit",
   "language": "python",
   "name": "python3"
  },
  "language_info": {
   "codemirror_mode": {
    "name": "ipython",
    "version": 3
   },
   "file_extension": ".py",
   "mimetype": "text/x-python",
   "name": "python",
   "nbconvert_exporter": "python",
   "pygments_lexer": "ipython3",
   "version": "3.10.4"
  },
  "orig_nbformat": 4
 },
 "nbformat": 4,
 "nbformat_minor": 2
}
