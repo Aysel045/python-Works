{
 "cells": [
  {
   "cell_type": "code",
   "execution_count": null,
   "metadata": {},
   "outputs": [],
   "source": [
    "# Örnek 36:  Örnek :Bir otoparkın ücret tarifesi aşağıdaki gibidir:\n",
    "\n",
    "# 1 saate kadar: 5 TL\n",
    "# 1-5 saat arası: Saat başı 4 TL\n",
    "# 5 saatten fazla: Saat başı 3 TL\n",
    "# Buna göre kullanıcının girdiği otoparkta kalınan saat süresine göre ödenecek miktarı bularak ekrana yazdırınız.\n",
    "\n",
    "hour=int(input(\"enter how many hour stayed :\"))\n",
    "if hour < 1:\n",
    "  print(\"5 tl\")\n",
    "if  1<= hour < 5:\n",
    "  print(hour*4)\n",
    "if hour > 5:\n",
    "  print(hour*3)\n"
   ]
  },
  {
   "cell_type": "code",
   "execution_count": 1,
   "metadata": {},
   "outputs": [
    {
     "ename": "KeyboardInterrupt",
     "evalue": "Interrupted by user",
     "output_type": "error",
     "traceback": [
      "\u001b[1;31m---------------------------------------------------------------------------\u001b[0m",
      "\u001b[1;31mKeyboardInterrupt\u001b[0m                         Traceback (most recent call last)",
      "\u001b[1;32mc:\\Users\\sarum\\Desktop\\konu tekrarı\\konu tekrarı.ipynb Cell 2'\u001b[0m in \u001b[0;36m<cell line: 5>\u001b[1;34m()\u001b[0m\n\u001b[0;32m      <a href='vscode-notebook-cell:/c%3A/Users/sarum/Desktop/konu%20tekrar%C4%B1/konu%20tekrar%C4%B1.ipynb#ch0000001?line=0'>1</a>\u001b[0m \u001b[39m#  Örnek 28:  Klavyeden girilen başlangıç ve bitiş sayıları arasında bulunan sayıların toplamını bulan\u001b[39;00m\n\u001b[0;32m      <a href='vscode-notebook-cell:/c%3A/Users/sarum/Desktop/konu%20tekrar%C4%B1/konu%20tekrar%C4%B1.ipynb#ch0000001?line=1'>2</a>\u001b[0m \u001b[39m#  python kodunu yazınız.Girilen sayılar toplama dahil.\u001b[39;00m\n\u001b[0;32m      <a href='vscode-notebook-cell:/c%3A/Users/sarum/Desktop/konu%20tekrar%C4%B1/konu%20tekrar%C4%B1.ipynb#ch0000001?line=3'>4</a>\u001b[0m toplam\u001b[39m=\u001b[39m\u001b[39m0\u001b[39m\n\u001b[1;32m----> <a href='vscode-notebook-cell:/c%3A/Users/sarum/Desktop/konu%20tekrar%C4%B1/konu%20tekrar%C4%B1.ipynb#ch0000001?line=4'>5</a>\u001b[0m baslangic \u001b[39m=\u001b[39m \u001b[39minput\u001b[39;49m(\u001b[39m\"\u001b[39;49m\u001b[39mBaşlangıç Sayısı :\u001b[39;49m\u001b[39m\"\u001b[39;49m)\n\u001b[0;32m      <a href='vscode-notebook-cell:/c%3A/Users/sarum/Desktop/konu%20tekrar%C4%B1/konu%20tekrar%C4%B1.ipynb#ch0000001?line=5'>6</a>\u001b[0m bitis \u001b[39m=\u001b[39m \u001b[39minput\u001b[39m(\u001b[39m\"\u001b[39m\u001b[39mBitiş Sayısı :\u001b[39m\u001b[39m\"\u001b[39m)\n\u001b[0;32m      <a href='vscode-notebook-cell:/c%3A/Users/sarum/Desktop/konu%20tekrar%C4%B1/konu%20tekrar%C4%B1.ipynb#ch0000001?line=6'>7</a>\u001b[0m \u001b[39mfor\u001b[39;00m sayi \u001b[39min\u001b[39;00m \u001b[39mrange\u001b[39m (\u001b[39mint\u001b[39m(baslangic), \u001b[39mint\u001b[39m(bitis)\u001b[39m+\u001b[39m\u001b[39m1\u001b[39m):toplam\u001b[39m=\u001b[39mtoplam\u001b[39m+\u001b[39msayi\n",
      "File \u001b[1;32m~\\AppData\\Roaming\\Python\\Python310\\site-packages\\ipykernel\\kernelbase.py:1159\u001b[0m, in \u001b[0;36mKernel.raw_input\u001b[1;34m(self, prompt)\u001b[0m\n\u001b[0;32m   <a href='file:///c%3A/Users/sarum/AppData/Roaming/Python/Python310/site-packages/ipykernel/kernelbase.py?line=1154'>1155</a>\u001b[0m \u001b[39mif\u001b[39;00m \u001b[39mnot\u001b[39;00m \u001b[39mself\u001b[39m\u001b[39m.\u001b[39m_allow_stdin:\n\u001b[0;32m   <a href='file:///c%3A/Users/sarum/AppData/Roaming/Python/Python310/site-packages/ipykernel/kernelbase.py?line=1155'>1156</a>\u001b[0m     \u001b[39mraise\u001b[39;00m StdinNotImplementedError(\n\u001b[0;32m   <a href='file:///c%3A/Users/sarum/AppData/Roaming/Python/Python310/site-packages/ipykernel/kernelbase.py?line=1156'>1157</a>\u001b[0m         \u001b[39m\"\u001b[39m\u001b[39mraw_input was called, but this frontend does not support input requests.\u001b[39m\u001b[39m\"\u001b[39m\n\u001b[0;32m   <a href='file:///c%3A/Users/sarum/AppData/Roaming/Python/Python310/site-packages/ipykernel/kernelbase.py?line=1157'>1158</a>\u001b[0m     )\n\u001b[1;32m-> <a href='file:///c%3A/Users/sarum/AppData/Roaming/Python/Python310/site-packages/ipykernel/kernelbase.py?line=1158'>1159</a>\u001b[0m \u001b[39mreturn\u001b[39;00m \u001b[39mself\u001b[39;49m\u001b[39m.\u001b[39;49m_input_request(\n\u001b[0;32m   <a href='file:///c%3A/Users/sarum/AppData/Roaming/Python/Python310/site-packages/ipykernel/kernelbase.py?line=1159'>1160</a>\u001b[0m     \u001b[39mstr\u001b[39;49m(prompt),\n\u001b[0;32m   <a href='file:///c%3A/Users/sarum/AppData/Roaming/Python/Python310/site-packages/ipykernel/kernelbase.py?line=1160'>1161</a>\u001b[0m     \u001b[39mself\u001b[39;49m\u001b[39m.\u001b[39;49m_parent_ident[\u001b[39m\"\u001b[39;49m\u001b[39mshell\u001b[39;49m\u001b[39m\"\u001b[39;49m],\n\u001b[0;32m   <a href='file:///c%3A/Users/sarum/AppData/Roaming/Python/Python310/site-packages/ipykernel/kernelbase.py?line=1161'>1162</a>\u001b[0m     \u001b[39mself\u001b[39;49m\u001b[39m.\u001b[39;49mget_parent(\u001b[39m\"\u001b[39;49m\u001b[39mshell\u001b[39;49m\u001b[39m\"\u001b[39;49m),\n\u001b[0;32m   <a href='file:///c%3A/Users/sarum/AppData/Roaming/Python/Python310/site-packages/ipykernel/kernelbase.py?line=1162'>1163</a>\u001b[0m     password\u001b[39m=\u001b[39;49m\u001b[39mFalse\u001b[39;49;00m,\n\u001b[0;32m   <a href='file:///c%3A/Users/sarum/AppData/Roaming/Python/Python310/site-packages/ipykernel/kernelbase.py?line=1163'>1164</a>\u001b[0m )\n",
      "File \u001b[1;32m~\\AppData\\Roaming\\Python\\Python310\\site-packages\\ipykernel\\kernelbase.py:1201\u001b[0m, in \u001b[0;36mKernel._input_request\u001b[1;34m(self, prompt, ident, parent, password)\u001b[0m\n\u001b[0;32m   <a href='file:///c%3A/Users/sarum/AppData/Roaming/Python/Python310/site-packages/ipykernel/kernelbase.py?line=1197'>1198</a>\u001b[0m             \u001b[39mbreak\u001b[39;00m\n\u001b[0;32m   <a href='file:///c%3A/Users/sarum/AppData/Roaming/Python/Python310/site-packages/ipykernel/kernelbase.py?line=1198'>1199</a>\u001b[0m \u001b[39mexcept\u001b[39;00m \u001b[39mKeyboardInterrupt\u001b[39;00m:\n\u001b[0;32m   <a href='file:///c%3A/Users/sarum/AppData/Roaming/Python/Python310/site-packages/ipykernel/kernelbase.py?line=1199'>1200</a>\u001b[0m     \u001b[39m# re-raise KeyboardInterrupt, to truncate traceback\u001b[39;00m\n\u001b[1;32m-> <a href='file:///c%3A/Users/sarum/AppData/Roaming/Python/Python310/site-packages/ipykernel/kernelbase.py?line=1200'>1201</a>\u001b[0m     \u001b[39mraise\u001b[39;00m \u001b[39mKeyboardInterrupt\u001b[39;00m(\u001b[39m\"\u001b[39m\u001b[39mInterrupted by user\u001b[39m\u001b[39m\"\u001b[39m) \u001b[39mfrom\u001b[39;00m \u001b[39mNone\u001b[39m\n\u001b[0;32m   <a href='file:///c%3A/Users/sarum/AppData/Roaming/Python/Python310/site-packages/ipykernel/kernelbase.py?line=1201'>1202</a>\u001b[0m \u001b[39mexcept\u001b[39;00m \u001b[39mException\u001b[39;00m:\n\u001b[0;32m   <a href='file:///c%3A/Users/sarum/AppData/Roaming/Python/Python310/site-packages/ipykernel/kernelbase.py?line=1202'>1203</a>\u001b[0m     \u001b[39mself\u001b[39m\u001b[39m.\u001b[39mlog\u001b[39m.\u001b[39mwarning(\u001b[39m\"\u001b[39m\u001b[39mInvalid Message:\u001b[39m\u001b[39m\"\u001b[39m, exc_info\u001b[39m=\u001b[39m\u001b[39mTrue\u001b[39;00m)\n",
      "\u001b[1;31mKeyboardInterrupt\u001b[0m: Interrupted by user"
     ]
    }
   ],
   "source": [
    "#  Örnek 28:  Klavyeden girilen başlangıç ve bitiş sayıları arasında bulunan sayıların toplamını bulan\n",
    "#  python kodunu yazınız.Girilen sayılar toplama dahil.\n",
    " \n",
    "toplam=0\n",
    "baslangic = input(\"Başlangıç Sayısı :\")\n",
    "bitis = input(\"Bitiş Sayısı :\")\n",
    "for sayi in range (int(baslangic), int(bitis)+1):toplam=toplam+sayi\n",
    "print('Aradaki Sayıların Toplamı:',toplam)\n"
   ]
  },
  {
   "cell_type": "code",
   "execution_count": null,
   "metadata": {},
   "outputs": [],
   "source": []
  },
  {
   "cell_type": "code",
   "execution_count": null,
   "metadata": {},
   "outputs": [],
   "source": []
  }
 ],
 "metadata": {
  "interpreter": {
   "hash": "502f352580151e38c0585099878fead8169f67c557ff4d2e404d95e59d9c23bc"
  },
  "kernelspec": {
   "display_name": "Python 3.10.4 64-bit",
   "language": "python",
   "name": "python3"
  },
  "language_info": {
   "codemirror_mode": {
    "name": "ipython",
    "version": 3
   },
   "file_extension": ".py",
   "mimetype": "text/x-python",
   "name": "python",
   "nbconvert_exporter": "python",
   "pygments_lexer": "ipython3",
   "version": "3.10.4"
  },
  "orig_nbformat": 4
 },
 "nbformat": 4,
 "nbformat_minor": 2
}
